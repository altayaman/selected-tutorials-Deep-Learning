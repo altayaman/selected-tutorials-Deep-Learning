{
 "cells": [
  {
   "cell_type": "code",
   "execution_count": 3,
   "metadata": {
    "collapsed": true
   },
   "outputs": [],
   "source": [
    "from collections import namedtuple\n",
    "\n",
    "import numpy as np"
   ]
  },
  {
   "cell_type": "markdown",
   "metadata": {},
   "source": [
    "## RSA example\n",
    "\n",
    "Stolen from Will Monroe and Chris Pott's paper, [*Learning in the rational speech acts model.*][1]\n",
    "\n",
    "[1]: http://nlp.stanford.edu/pubs/monroe2015learning.pdf"
   ]
  },
  {
   "cell_type": "code",
   "execution_count": 10,
   "metadata": {
    "collapsed": true
   },
   "outputs": [],
   "source": [
    "properties = [\"beard\", \"glasses\", \"tie\"]\n",
    "Person = namedtuple(\"Person\", properties)"
   ]
  },
  {
   "cell_type": "code",
   "execution_count": 6,
   "metadata": {
    "collapsed": true
   },
   "outputs": [],
   "source": [
    "def lexicon(word, referent):\n",
    "    match = (   (word == \"glasses\" and referent.glasses)\n",
    "             or (word == \"beard\" and referent.beard)\n",
    "             or (word == \"tie\" and referent.tie))\n",
    "    \n",
    "    return 1.0 if match else 0.0"
   ]
  },
  {
   "cell_type": "code",
   "execution_count": 7,
   "metadata": {
    "collapsed": true
   },
   "outputs": [],
   "source": [
    "referents = [Person(glasses=True, beard=True, tie=False),\n",
    "             Person(glasses=True, beard=False, tie=True),\n",
    "             Person(glasses=False, beard=False, tie=True)]"
   ]
  },
  {
   "cell_type": "markdown",
   "metadata": {},
   "source": [
    "## Literal speaker model\n",
    "\n",
    "The literal speaker model $S_0$ is directly parameterized by the lexicon:\n",
    "\n",
    "$$S_0(\\text{word} \\mid \\text{referent}) \\propto \\exp(\\lambda(\\log \\mathcal L(\\text{word}, \\text{referent}) - C(\\text{word})))$$"
   ]
  },
  {
   "cell_type": "code",
   "execution_count": 13,
   "metadata": {
    "collapsed": true
   },
   "outputs": [],
   "source": [
    "literal_speaker = [[lexicon(word, referent) for word in properties]\n",
    "                   for referent in referents]\n",
    "literal_speaker = np.array(literal_speaker)\n",
    "# Normalize.\n",
    "literal_speaker /= literal_speaker.sum(axis=1, keepdims=True)"
   ]
  },
  {
   "cell_type": "code",
   "execution_count": 14,
   "metadata": {
    "collapsed": false
   },
   "outputs": [
    {
     "data": {
      "text/plain": [
       "array([[ 0.5,  0.5,  0. ],\n",
       "       [ 0. ,  0.5,  0.5],\n",
       "       [ 0. ,  0. ,  1. ]])"
      ]
     },
     "execution_count": 14,
     "metadata": {},
     "output_type": "execute_result"
    }
   ],
   "source": [
    "literal_speaker"
   ]
  },
  {
   "cell_type": "markdown",
   "metadata": {},
   "source": [
    "## Pragmatic listener model\n",
    "\n",
    "The pragmatic listener maps then from word $\\to$ referent:\n",
    "\n",
    "$$L_1(\\text{referent} \\mid \\text{word}) \\propto S_0(\\text{word} \\mid \\text{referent}) P(\\text{referent})$$"
   ]
  },
  {
   "cell_type": "code",
   "execution_count": 15,
   "metadata": {
    "collapsed": false
   },
   "outputs": [
    {
     "data": {
      "text/plain": [
       "array([[ 1.        ,  0.        ,  0.        ],\n",
       "       [ 0.5       ,  0.5       ,  0.        ],\n",
       "       [ 0.        ,  0.33333333,  0.66666667]])"
      ]
     },
     "execution_count": 15,
     "metadata": {},
     "output_type": "execute_result"
    }
   ],
   "source": [
    "pragmatic_listener = literal_speaker.T\n",
    "# Normalize.\n",
    "pragmatic_listener /= pragmatic_listener.sum(axis=1, keepdims=True)\n",
    "pragmatic_listener"
   ]
  },
  {
   "cell_type": "markdown",
   "metadata": {},
   "source": [
    "## Pragmatic speaker model\n",
    "\n",
    "The higher-level *pragmatic speaker* takes into account the mappings of the pragmatic listener.\n",
    "\n",
    "$$S_1(\\text{word} \\mid \\text{referent}) \\propto \\exp(\\lambda(\\log L_1(\\text{referent} \\mid \\text{word}) - C(\\text{word})))$$"
   ]
  },
  {
   "cell_type": "code",
   "execution_count": 16,
   "metadata": {
    "collapsed": false
   },
   "outputs": [
    {
     "data": {
      "text/plain": [
       "array([[ 0.66666667,  0.33333333,  0.        ],\n",
       "       [ 0.        ,  0.6       ,  0.4       ],\n",
       "       [ 0.        ,  0.        ,  1.        ]])"
      ]
     },
     "execution_count": 16,
     "metadata": {},
     "output_type": "execute_result"
    }
   ],
   "source": [
    "pragmatic_speaker = pragmatic_listener.T\n",
    "# Normalize.\n",
    "pragmatic_speaker /= pragmatic_speaker.sum(axis=1, keepdims=True)\n",
    "pragmatic_speaker"
   ]
  }
 ],
 "metadata": {
  "anaconda-cloud": {},
  "kernelspec": {
   "display_name": "Python [default]",
   "language": "python",
   "name": "python3"
  },
  "language_info": {
   "codemirror_mode": {
    "name": "ipython",
    "version": 3
   },
   "file_extension": ".py",
   "mimetype": "text/x-python",
   "name": "python",
   "nbconvert_exporter": "python",
   "pygments_lexer": "ipython3",
   "version": "3.5.2"
  }
 },
 "nbformat": 4,
 "nbformat_minor": 1
}
