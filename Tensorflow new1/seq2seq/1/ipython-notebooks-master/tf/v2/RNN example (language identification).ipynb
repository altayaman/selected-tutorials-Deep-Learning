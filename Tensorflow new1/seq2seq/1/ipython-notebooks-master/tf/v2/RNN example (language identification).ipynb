{
 "cells": [
  {
   "cell_type": "code",
   "execution_count": 1,
   "metadata": {
    "collapsed": false
   },
   "outputs": [],
   "source": [
    "import codecs\n",
    "\n",
    "import numpy as np\n",
    "import tensorflow as tf\n",
    "\n",
    "from stanza.text.vocab import Vocab\n",
    "\n",
    "%matplotlib inline\n",
    "import matplotlib.pyplot as plt\n",
    "\n",
    "batch_size = 256\n",
    "seq_length = 50\n",
    "num_classes = 9\n",
    "\n",
    "embedding_dim = 30\n",
    "hidden_dim = 256"
   ]
  },
  {
   "cell_type": "markdown",
   "metadata": {},
   "source": [
    "## Data prep / utilities"
   ]
  },
  {
   "cell_type": "code",
   "execution_count": 2,
   "metadata": {
    "collapsed": true
   },
   "outputs": [],
   "source": [
    "# Load pre-built vocabulary file.\n",
    "vocab = Vocab(\" \")\n",
    "with codecs.open(\"data/ALL.chars\", encoding=\"utf-8\") as voc_f:\n",
    "    for line in voc_f:\n",
    "        # Careful -- don't drop whitespace characters!\n",
    "        line_empty = line.strip()\n",
    "        if line_empty:\n",
    "            vocab.add(line_empty)\n",
    "        else:\n",
    "            vocab.add(line)"
   ]
  },
  {
   "cell_type": "code",
   "execution_count": 3,
   "metadata": {
    "collapsed": true
   },
   "outputs": [],
   "source": [
    "def convert_labels_to_onehot(labels, batch_size, num_classes):\n",
    "    \"\"\"\n",
    "    Convert a vector of integer class labels to a matrix of one-hot target vectors.\n",
    "    \"\"\"\n",
    "    with tf.name_scope(\"onehot\"):\n",
    "        labels = tf.expand_dims(labels, 1)\n",
    "        indices = tf.expand_dims(tf.range(0, batch_size, 1), 1)\n",
    "        sparse_ptrs = tf.concat(1, [indices, labels], name=\"ptrs\")\n",
    "        onehots = tf.sparse_to_dense(sparse_ptrs, [batch_size, num_classes],\n",
    "                                     1.0, 0.0)\n",
    "        return onehots"
   ]
  },
  {
   "cell_type": "code",
   "execution_count": 4,
   "metadata": {
    "collapsed": true
   },
   "outputs": [],
   "source": [
    "tf.ops.reset_default_graph()"
   ]
  },
  {
   "cell_type": "markdown",
   "metadata": {},
   "source": [
    "## Core model\n",
    "\n",
    "Useful references:\n",
    "\n",
    "- [TensorFlow tutorial on sharing variables](https://www.tensorflow.org/versions/v0.6.0/how_tos/variable_scope/index.html). We use `tf.get_variable` in the model definition below.\n",
    "- [`tensorflow.python.ops.rnn`](https://github.com/tensorflow/tensorflow/blob/master/tensorflow/python/ops/rnn.py) module: implements several common sequence models\n",
    "  + See e.g. this beautiful modular [`bidirectional_rnn` implementation](https://github.com/tensorflow/tensorflow/blob/master/tensorflow/python/ops/rnn.py#L260)\n",
    "- [`tensorflow.python.ops.rnn_cell`](https://github.com/tensorflow/tensorflow/blob/master/tensorflow/python/ops/rnn_cell.py) module: implements common recurrences (LSTM, GRU)"
   ]
  },
  {
   "cell_type": "code",
   "execution_count": 5,
   "metadata": {
    "collapsed": true
   },
   "outputs": [],
   "source": [
    "def model(X, y):\n",
    "    \"\"\"\n",
    "    Build the feedforward graph for our sequence classifier.\n",
    "    \n",
    "    Args:\n",
    "        X: `seq_length` list of `batch_size * embedding_dim` tensors\n",
    "        y: `batch_size` vector of ground-truth classes\n",
    "    \"\"\"\n",
    "    \n",
    "    # Convert the label vector to a matrix of one-hot column vectors.\n",
    "    y_mat = convert_labels_to_onehot(y, batch_size, num_classes)\n",
    "    \n",
    "    # Build a representation of the recurrence, here a GRU (Gated\n",
    "    # Recurrent Unit).\n",
    "    cell = tf.nn.rnn_cell.GRUCell(hidden_dim)\n",
    "    \n",
    "    # Wrap this recurrence in an embedding lookup unit. (This wrapped\n",
    "    # recurrence will have the same internal state management of the\n",
    "    # GRU; it will simply accept integer inputs and feed them on to\n",
    "    # the wrapped unit.)\n",
    "    cell = tf.nn.rnn_cell.EmbeddingWrapper(cell, embedding_classes=len(vocab))\n",
    "\n",
    "    # Create some initial state for the recurrence. (Could also be\n",
    "    # a free parameter; see the commented form below!)\n",
    "    init_state = cell.zero_state(batch_size, tf.float32)\n",
    "    # init_state = tf.get_variable(\"cell_init\", (cell.state_size,),\n",
    "    #                              initializer=tf.zeros_initializer)\n",
    "    \n",
    "    # Run the sequence feedforward.\n",
    "    outputs, states = tf.nn.rnn(cell, X, init_state)\n",
    "    \n",
    "    # Grab the final GRU state and use it to predict a distribution\n",
    "    # over classes.\n",
    "    W_final = tf.get_variable(\"W_final\", (cell.output_size, num_classes))\n",
    "    logits = tf.matmul(outputs[-1], W_final)\n",
    "    \n",
    "    # Calculate cross-entropy loss using the ground-truth zero-hot\n",
    "    # matrix `y_mat`.\n",
    "    loss = tf.nn.softmax_cross_entropy_with_logits(logits, y_mat)\n",
    "    loss = tf.reduce_mean(loss)\n",
    "    \n",
    "    return logits, loss"
   ]
  },
  {
   "cell_type": "code",
   "execution_count": 6,
   "metadata": {
    "collapsed": false
   },
   "outputs": [],
   "source": [
    "# Build the full forward graph by creating some placeholder inputs and running `model`.\n",
    "X = [tf.placeholder(tf.int32, shape=(None,), name=\"X%i\" % t)\n",
    "     for t in range(seq_length)]\n",
    "y = tf.placeholder(tf.int32, shape=(None,), name=\"y\")\n",
    "\n",
    "logits, loss = model(X, y)"
   ]
  },
  {
   "cell_type": "markdown",
   "metadata": {},
   "source": [
    "## Training graph"
   ]
  },
  {
   "cell_type": "code",
   "execution_count": 7,
   "metadata": {
    "collapsed": true
   },
   "outputs": [],
   "source": [
    "lr = 0.1\n",
    "momentum = 0.9\n",
    "\n",
    "minimizer = tf.train.MomentumOptimizer(lr, momentum)\n",
    "\n",
    "# Build an op which updates variables in order to minimize `loss`.\n",
    "train_op = minimizer.minimize(loss)"
   ]
  },
  {
   "cell_type": "markdown",
   "metadata": {},
   "source": [
    "Begin a GPU session, restricting ourselves to a single GPU device. (from [Derek Murray's SO answer](http://stackoverflow.com/a/34200194/176075))\n",
    "\n",
    "- (see [`GPUOptions` proto](https://github.com/tensorflow/tensorflow/blob/master/tensorflow/core/framework/config.proto#L9))\n",
    "- Also note: [`CUDA_VISIBLE_DEVICES`](https://devblogs.nvidia.com/parallelforall/cuda-pro-tip-control-gpu-visibility-cuda_visible_devices/)"
   ]
  },
  {
   "cell_type": "code",
   "execution_count": 8,
   "metadata": {
    "collapsed": false
   },
   "outputs": [],
   "source": [
    "gpu_options = tf.GPUOptions(per_process_gpu_memory_fraction=0.2)"
   ]
  },
  {
   "cell_type": "code",
   "execution_count": 9,
   "metadata": {
    "collapsed": false
   },
   "outputs": [],
   "source": [
    "sess = tf.Session(config=tf.ConfigProto(device_count={\"GPU\": 1},\n",
    "                                        gpu_options=gpu_options))\n",
    "sess.run(tf.initialize_all_variables())"
   ]
  },
  {
   "cell_type": "markdown",
   "metadata": {},
   "source": [
    "## Data munging"
   ]
  },
  {
   "cell_type": "code",
   "execution_count": 10,
   "metadata": {
    "collapsed": true
   },
   "outputs": [],
   "source": [
    "files = [\"data/afr-za_web_2013_10K-sentences.txt.clean\",\n",
    "         \"data/als_wikipedia_2007_10K-sentences.txt.clean\",\n",
    "         \"data/azj_wikipedia_2007_10K-sentences.txt.clean\",\n",
    "         \"data/bcl_wikipedia_2011_10K-sentences.txt.clean\",\n",
    "         \"data/ces_web_2002_10K-sentences.txt.clean\",\n",
    "         \"data/dan_web_2002_10K-sentences.txt.clean\",\n",
    "         \"data/deu_news_1995_10K-sentences.txt.clean\",\n",
    "         \"data/eng_news_2005_10K-sentences.txt.clean\",\n",
    "         \"data/est_newscrawl_2011_10K-sentences.txt.clean\"]\n",
    "handles = [codecs.open(file, encoding=\"utf-8\") for file in files]"
   ]
  },
  {
   "cell_type": "code",
   "execution_count": 11,
   "metadata": {
    "collapsed": true
   },
   "outputs": [],
   "source": [
    "def pull_batch(batch_size):\n",
    "    X_batch, y_batch = [], []\n",
    "    \n",
    "    file_draws = np.random.randint(0, len(handles), size=batch_size)\n",
    "    for i, file_draw in enumerate(file_draws):\n",
    "        try:\n",
    "            line = next(handles[file_draw])\n",
    "        except StopIteration:\n",
    "            print \"Recycling \", files[file_draw]\n",
    "            handles[file_draw] = codecs.open(files[file_draw],\n",
    "                                             encoding=\"utf-8\")\n",
    "            line = next(handles[file_draw])\n",
    "            \n",
    "        # Convert to IDs and trim/pad.\n",
    "        line = [vocab[char] for char in line.strip()[:seq_length]]\n",
    "        line = line + [vocab[\" \"]] * (seq_length - len(line))\n",
    "        \n",
    "        X_batch.append(line)\n",
    "        y_batch.append(file_draw)\n",
    "        \n",
    "    # Build a seq_length * batch_size * 1 input tensor\n",
    "    X_batch = np.array(X_batch, dtype=np.int32).T\n",
    "    \n",
    "    y_batch = np.array(y_batch, dtype=np.int32)\n",
    "    \n",
    "    return X_batch, y_batch"
   ]
  },
  {
   "cell_type": "code",
   "execution_count": 12,
   "metadata": {
    "collapsed": false
   },
   "outputs": [],
   "source": [
    "def run_iter():\n",
    "    \"\"\"\n",
    "    Run a single training iteration.\n",
    "    \"\"\"\n",
    "    X_batch, y_batch = pull_batch(batch_size)\n",
    "    feed_dict = {X[t]: X_batch[t] for t in range(seq_length)}\n",
    "    feed_dict[y] = y_batch\n",
    "\n",
    "    _, loss_t = sess.run([train_op, loss], feed_dict)\n",
    "    return loss_t"
   ]
  },
  {
   "cell_type": "code",
   "execution_count": 13,
   "metadata": {
    "collapsed": false,
    "scrolled": true
   },
   "outputs": [],
   "source": [
    "# Run a lot of training iterations.\n",
    "losses = [run_iter() for t in range(250)]"
   ]
  },
  {
   "cell_type": "code",
   "execution_count": 14,
   "metadata": {
    "collapsed": false
   },
   "outputs": [
    {
     "data": {
      "text/plain": [
       "[<matplotlib.lines.Line2D at 0x7f71c4085210>]"
      ]
     },
     "execution_count": 14,
     "metadata": {},
     "output_type": "execute_result"
    },
    {
     "data": {
      "image/png": "[encoded data removed]",
      "text/plain": [
       "<matplotlib.figure.Figure at 0x7f721ea9d290>"
      ]
     },
     "metadata": {},
     "output_type": "display_data"
    }
   ],
   "source": [
    "plt.plot(losses)"
   ]
  },
  {
   "cell_type": "code",
   "execution_count": 15,
   "metadata": {
    "collapsed": false
   },
   "outputs": [
    {
     "name": "stdout",
     "output_type": "stream",
     "text": [
      "afr dan Zover het oog reikt heerst hier het moment.       \n",
      "bcl afr ” (2 Nephi 26:33).                                \n",
      "eng bcl \"Abigail regularly sits up in a chair for short pe\n",
      "ces afr Jaderna elektrarna Temelin je pro 60% obyvatel CR \n",
      "deu dan Elektronikbranche hofft auf Funkausstellung (dpa).\n",
      "deu eng Welches Bild von Deutschland hatten Sie, als Sie i\n",
      "als eng Ne 1941, bashke me Francesco Leonetti, Roberto Rov\n",
      "deu afr Der ZEIT sagte er in einem Interview im vorigen Ja\n",
      "dan eng TILMELDING & BETALING : Skal ske til Morten el.   \n",
      "deu afr Der Vorgang lasse \"die Inquisition wie eine Studie\n",
      "bcl afr HOROPHOROPA :Horophoropa man baya O neneng ko :ta \n",
      "deu dan Trost bietet da der Kofferraum, den man besser als\n",
      "dan afr Komponist workshop med Esbjerg Ensemble.          \n",
      "deu afr Ohne Qualifikationssieg bei der EM 1996 in Vejle d\n",
      "deu afr Dieser 'Poet im vollen Sinne des Worts', das freil\n",
      "deu afr Es ist die \"National Rifle Association\" (NRA), die\n",
      "dan afr 53: De syv urskiver (The Seven Dails Mystery, \n",
      "deu est Camilo Cienfuegos und Ernesto \"Che\" Guevara stürme\n",
      "eng bcl Digital content and new applications like digital \n",
      "dan afr Har karakter af overordnede visioner.             \n",
      "eng afr DeMil has said he knew of no wrongdoing related to\n",
      "als est Limani i Shengjinit eshte me i rendesishmi liman d\n",
      "azj ces 32-ci ABŞ prezidenti.                             \n",
      "eng bcl University of Hawaii Manoa Chancellor Peter Engler\n",
      "afr deu \" deur ds Freddie Schoeman.                       \n",
      "deu dan Den lebenden Brandt.                              \n",
      "dan afr Den intuitive maleproces kan opdeles i den terapeu\n",
      "afr bcl Xiao Ming het die uitdaging aanvaar en besluit om \n",
      "dan eng En analyse af patienttilfredshed med konsultatione\n"
     ]
    }
   ],
   "source": [
    "for t in range(2):\n",
    "    X_test, y_test = pull_batch(batch_size)\n",
    "    X_test_str = [\"\".join(vocab.indices2words(sentence)) for sentence in X_test.T]\n",
    "    \n",
    "    feed_dict = {X[t]: X_test[t] for t in range(seq_length)}\n",
    "    feed_dict[y] = y_test\n",
    "    \n",
    "    y_pred_test = sess.run(tf.argmax(logits, 1), feed_dict)\n",
    "    for sentence, y_obs, y_pred in zip(X_test_str, y_test, y_pred_test):\n",
    "        if y_obs == y_pred: continue\n",
    "        print \"%s %s %s\" % (files[y_obs][5:8], files[y_pred][5:8], sentence)"
   ]
  }
 ],
 "metadata": {
  "kernelspec": {
   "display_name": "Python 2",
   "language": "python",
   "name": "python2"
  },
  "language_info": {
   "codemirror_mode": {
    "name": "ipython",
    "version": 2
   },
   "file_extension": ".py",
   "mimetype": "text/x-python",
   "name": "python",
   "nbconvert_exporter": "python",
   "pygments_lexer": "ipython2",
   "version": "2.7.11"
  }
 },
 "nbformat": 4,
 "nbformat_minor": 0
}
